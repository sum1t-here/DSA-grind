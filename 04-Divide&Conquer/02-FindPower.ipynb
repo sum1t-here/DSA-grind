{
 "cells": [
  {
   "cell_type": "code",
   "execution_count": 1,
   "metadata": {},
   "outputs": [
    {
     "name": "stdout",
     "output_type": "stream",
     "text": [
      "2 ^ 10 is 1024 \n"
     ]
    }
   ],
   "source": [
    "## function definition\n",
    "def findPower(a,n):\n",
    "    if n == 1:\n",
    "        return a\n",
    "    ## big problem\n",
    "    else:\n",
    "        mid = n//2\n",
    "        b = findPower(a,mid)\n",
    "        result = b*b\n",
    "        # even\n",
    "        if n%2 == 0:\n",
    "            return result\n",
    "        # odd\n",
    "        else:\n",
    "            return result*a\n",
    "## Driver code\n",
    "\n",
    "a = 2\n",
    "n = 10\n",
    "\n",
    "result = findPower(a,n)\n",
    "print(f\"{a} ^ {n} is {result} \")"
   ]
  }
 ],
 "metadata": {
  "kernelspec": {
   "display_name": "Python 3",
   "language": "python",
   "name": "python3"
  },
  "language_info": {
   "codemirror_mode": {
    "name": "ipython",
    "version": 3
   },
   "file_extension": ".py",
   "mimetype": "text/x-python",
   "name": "python",
   "nbconvert_exporter": "python",
   "pygments_lexer": "ipython3",
   "version": "3.12.0"
  }
 },
 "nbformat": 4,
 "nbformat_minor": 2
}
