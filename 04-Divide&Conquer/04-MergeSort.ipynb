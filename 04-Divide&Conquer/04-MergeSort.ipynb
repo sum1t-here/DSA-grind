{
 "cells": [
  {
   "cell_type": "code",
   "execution_count": 3,
   "metadata": {},
   "outputs": [
    {
     "name": "stdout",
     "output_type": "stream",
     "text": [
      "Sorted array [13, 27, 50, 62, 65, 70, 80, 98]\n"
     ]
    }
   ],
   "source": [
    "## implementation of merge sort\n",
    "\n",
    "## time complexity for mergeProcedure = O(N)\n",
    "def mergeProcedure(arr,i,mid,j):\n",
    "    # no of elements in the left subarray (i, mid)\n",
    "    n1 = mid - i + 1\n",
    "    # no of elements in the right subarray (mid+1, j)\n",
    "    n2 = j - mid\n",
    "\n",
    "    leftSubarray = [0] * n1\n",
    "    rightSubarray = [0] * n2\n",
    "\n",
    "    ## copy the elements from an array to subarray\n",
    "    for m in range(n1):\n",
    "        leftSubarray[m] = arr[i+m]\n",
    "    for n in range(n2):\n",
    "        rightSubarray[n] = arr[mid+1 + n]\n",
    "\n",
    "    p = 0\n",
    "    q = 0\n",
    "    k = i\n",
    "    ## returning a sorted subarray\n",
    "    while p < n1 and q < n2 :\n",
    "        if leftSubarray[p] <= rightSubarray[q]:\n",
    "            arr[k] = leftSubarray[p]\n",
    "            p += 1\n",
    "        else:\n",
    "            arr[k] = rightSubarray[q]\n",
    "            q += 1\n",
    "        k += 1 \n",
    "\n",
    "    ## copy the entire elements from left subarray\n",
    "    while p < n1:\n",
    "        arr[k] = leftSubarray[p]\n",
    "        p+=1\n",
    "        k+=1\n",
    "    while q < n2:\n",
    "        arr[k] = rightSubarray[q]\n",
    "        q+=1\n",
    "        k+=1\n",
    "\n",
    "## Recurence relation = 2T(N/2) + N\n",
    "## Time Complexity = O(N logN)\n",
    "def mergeSort(arr, i, j):\n",
    "    if i < j:\n",
    "        mid = i + (j-i) // 2\n",
    "        mergeSort(arr,i,mid)\n",
    "        mergeSort(arr,mid+1,j)\n",
    "        mergeProcedure(arr, i, mid, j)\n",
    "    return arr\n",
    "## driver code\n",
    "arr =[50, 70, 65, 13, 80, 62, 98, 27]\n",
    "i = 0\n",
    "j = len(arr) - 1\n",
    "result = mergeSort(arr,i,j)\n",
    "print(f\"Sorted array {result}\")"
   ]
  }
 ],
 "metadata": {
  "kernelspec": {
   "display_name": "Python 3",
   "language": "python",
   "name": "python3"
  },
  "language_info": {
   "codemirror_mode": {
    "name": "ipython",
    "version": 3
   },
   "file_extension": ".py",
   "mimetype": "text/x-python",
   "name": "python",
   "nbconvert_exporter": "python",
   "pygments_lexer": "ipython3",
   "version": "3.undefined.undefined"
  }
 },
 "nbformat": 4,
 "nbformat_minor": 2
}
