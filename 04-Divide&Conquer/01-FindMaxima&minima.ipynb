{
 "cells": [
  {
   "cell_type": "markdown",
   "metadata": {},
   "source": [
    "## Finding maxima and minima from an array of elements"
   ]
  },
  {
   "cell_type": "code",
   "execution_count": 1,
   "metadata": {},
   "outputs": [
    {
     "name": "stdout",
     "output_type": "stream",
     "text": [
      "Maximum and minimum element in an array is : 75 10\n"
     ]
    }
   ],
   "source": [
    "## function definition\n",
    "\n",
    "def findMaxAndMin(arr, i, j):\n",
    "    ## small problem\n",
    "    ## single element present in an arr\n",
    "    if i == j:\n",
    "        max_val = arr[i]\n",
    "        min_val = arr[i]\n",
    "    ## two element present in an arr\n",
    "    elif i == j - 1:\n",
    "        if arr[i] < arr[j]:\n",
    "            max_val = arr[j]\n",
    "            min_val = arr[i]\n",
    "        else:\n",
    "            max_val = arr[i]\n",
    "            min_val = arr[j]\n",
    "    ## big problem(div and conquer approach)\n",
    "    else:\n",
    "        ## divide\n",
    "        mid = i + (j - i) // 2\n",
    "        ## recursion (conquer)\n",
    "        max_l, min_l = findMaxAndMin(arr,i,mid)\n",
    "        max_r, min_r = findMaxAndMin(arr,mid+1,j)\n",
    "\n",
    "        ## combine\n",
    "\n",
    "        ## find final max value\n",
    "        if max_l < max_r:\n",
    "            max_val = max_r\n",
    "        else:\n",
    "            max_val = max_l\n",
    "\n",
    "        ## find final min value\n",
    "        if min_l < min_r:\n",
    "            min_val = min_l\n",
    "        else:\n",
    "            min_val = min_r\n",
    "\n",
    "    return max_val, min_val\n",
    "        \n",
    "\n",
    "\n",
    "## Driver code\n",
    "arr = [10, 75, 40, 16, 29, 30, 35, 20]\n",
    "i = 0\n",
    "j = len(arr) - 1\n",
    "max_val, min_val = findMaxAndMin(arr, i , j)\n",
    "print(\"Maximum and minimum element in an array is :\", max_val,min_val)"
   ]
  }
 ],
 "metadata": {
  "kernelspec": {
   "display_name": "Python 3",
   "language": "python",
   "name": "python3"
  },
  "language_info": {
   "codemirror_mode": {
    "name": "ipython",
    "version": 3
   },
   "file_extension": ".py",
   "mimetype": "text/x-python",
   "name": "python",
   "nbconvert_exporter": "python",
   "pygments_lexer": "ipython3",
   "version": "3.12.0"
  }
 },
 "nbformat": 4,
 "nbformat_minor": 2
}
