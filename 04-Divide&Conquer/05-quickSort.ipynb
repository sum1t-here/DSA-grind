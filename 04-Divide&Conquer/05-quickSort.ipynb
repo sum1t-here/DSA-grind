{
 "cells": [
  {
   "cell_type": "code",
   "execution_count": null,
   "metadata": {},
   "outputs": [],
   "source": [
    "## function definition for partition\n",
    "def partition(arr,p,q):\n",
    "    i = p\n",
    "    ## starting element as pivot\n",
    "    pivot = arr[p]\n",
    "    for j in range(i+1,q+1):\n",
    "        if arr[j] <= pivot:\n",
    "            i += 1\n",
    "            ## swap between arr[i] and arr[j]\n",
    "            arr[i], arr[j] = arr[j],arr[i]\n",
    "    ## swap between arr[i] and pivot element\n",
    "    arr[i], arr[p] = arr[p], arr[i]\n",
    "\n",
    "## function definition for quicksort\n",
    "def quickSort(arr,p,q):\n",
    "    if p < q:\n",
    "        ## function calling for partition algorithm\n",
    "        mid = partition(arr,p,q)\n",
    "        ## recursive call for left subtree\n",
    "        quickSort(arr,p,mid)\n",
    "        ## recursive call for right subtree\n",
    "        quickSort(arr,mid+1,q)\n",
    "    return arr\n",
    "\n",
    "## driver code\n",
    "arr = [20, 10, 5, 70, 50, 89, 34, 47]\n",
    "p = 0\n",
    "q = len(arr) - 1\n",
    "result = quickSort(arr,p,q)\n",
    "print(f\"Sortrd array is {result}\")"
   ]
  }
 ],
 "metadata": {
  "language_info": {
   "name": "python"
  }
 },
 "nbformat": 4,
 "nbformat_minor": 2
}
