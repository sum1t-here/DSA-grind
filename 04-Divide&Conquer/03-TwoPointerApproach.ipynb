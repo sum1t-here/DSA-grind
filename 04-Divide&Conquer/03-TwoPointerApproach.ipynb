{
 "cells": [
  {
   "cell_type": "code",
   "execution_count": 4,
   "metadata": {},
   "outputs": [
    {
     "name": "stdout",
     "output_type": "stream",
     "text": [
      "result (1, 2)\n"
     ]
    }
   ],
   "source": [
    "## implementation of two pointer approach\n",
    "## time complexity -> O(n)\n",
    "\n",
    "def findPair(arr, target):\n",
    "    l = 0\n",
    "    r = len(arr) - 1\n",
    "    for i in range (len(arr)-1):\n",
    "        if arr[l] + arr[r] == target:\n",
    "            return l,r\n",
    "        elif arr[l] + arr[r] > target:\n",
    "            r = r - 1\n",
    "        else:\n",
    "            l = l + 1\n",
    "    \n",
    "    return -1,-1\n",
    "\n",
    "## driver code\n",
    "arr = [20, 40, 50, 75, 120, 145, 200]\n",
    "target = 90\n",
    "result = findPair(arr,target)\n",
    "print(f\"result {result}\")"
   ]
  }
 ],
 "metadata": {
  "kernelspec": {
   "display_name": "Python 3",
   "language": "python",
   "name": "python3"
  },
  "language_info": {
   "codemirror_mode": {
    "name": "ipython",
    "version": 3
   },
   "file_extension": ".py",
   "mimetype": "text/x-python",
   "name": "python",
   "nbconvert_exporter": "python",
   "pygments_lexer": "ipython3",
   "version": "3.12.0"
  }
 },
 "nbformat": 4,
 "nbformat_minor": 2
}
