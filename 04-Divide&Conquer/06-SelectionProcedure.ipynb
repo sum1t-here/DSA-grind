{
 "cells": [
  {
   "cell_type": "code",
   "execution_count": 3,
   "metadata": {},
   "outputs": [
    {
     "name": "stdout",
     "output_type": "stream",
     "text": [
      "2th smallest element in an array is 12\n"
     ]
    }
   ],
   "source": [
    "## function definition of partition\n",
    "def partition(arr,p,q):\n",
    "    i = p\n",
    "    pivot = arr[p]\n",
    "    for j in range(i+1,q+1):\n",
    "        if arr[j] <= pivot:\n",
    "            i += 1\n",
    "            arr[i], arr[j] = arr[j],arr[i]\n",
    "    arr[i], arr[p] = arr[p], arr[i]\n",
    "    return i+1\n",
    "\n",
    "## function defintion of selection procedure\n",
    "def selectionProcedure(arr,p,q,k):\n",
    "    if len(arr) == 1:\n",
    "        return arr[p]\n",
    "    else:\n",
    "        ## function call for partition\n",
    "        m = partition(arr,p,q)\n",
    "        if m == k:\n",
    "            return arr[m-1]\n",
    "        elif m < k:\n",
    "            return selectionProcedure(arr,m,q,k)\n",
    "        else:\n",
    "            return selectionProcedure(arr,p,m-2,k)\n",
    "        \n",
    "## driver  code \n",
    "arr = [20, 70, 50, 48, 98, 12, 10, 13]\n",
    "k = 2\n",
    "p = 0\n",
    "q = len(arr) - 1\n",
    "result = selectionProcedure(arr,p,q,k)\n",
    "print(f\"{k}th smallest element in an array is {result}\")"
   ]
  }
 ],
 "metadata": {
  "kernelspec": {
   "display_name": "Python 3",
   "language": "python",
   "name": "python3"
  },
  "language_info": {
   "codemirror_mode": {
    "name": "ipython",
    "version": 3
   },
   "file_extension": ".py",
   "mimetype": "text/x-python",
   "name": "python",
   "nbconvert_exporter": "python",
   "pygments_lexer": "ipython3",
   "version": "3.12.0"
  }
 },
 "nbformat": 4,
 "nbformat_minor": 2
}
