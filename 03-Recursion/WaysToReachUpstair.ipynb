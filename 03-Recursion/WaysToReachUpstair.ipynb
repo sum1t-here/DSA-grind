{
 "cells": [
  {
   "cell_type": "markdown",
   "metadata": {},
   "source": [
    "Count the number of ways to reach upstairs: 1 step at a time or 2 steps at a time\n",
    "\n",
    "n = 1 (1 way)\n",
    "n = 2 (2 way)\n",
    "n = 3 (3 way) {(1,2), (1,1,1), (2,1)}\n",
    "n = 4 (5 way) {(1,1,1,1), (2,1), (1,2,1), (2,1,1), (1,1,2)}\n",
    "\n",
    "[0, 1, 1, 2, 3, 4, 5]\n",
    " 0  1  2  3  4  5  6\n",
    "       1  2  3  4  5 = steps(n)\n",
    "\n",
    "so countNumberOfWays(s): return helper(s+1)"
   ]
  },
  {
   "cell_type": "code",
   "execution_count": 1,
   "metadata": {},
   "outputs": [
    {
     "name": "stdout",
     "output_type": "stream",
     "text": [
      "5\n"
     ]
    }
   ],
   "source": [
    "## helper method\n",
    "def helper(n):\n",
    "    if n <= 1:\n",
    "        return n\n",
    "    return helper(n-1) + helper(n-2)\n",
    "\n",
    "## func definition\n",
    "def countNumberOfWays(s):\n",
    "    return helper(s+1)\n",
    "\n",
    "## driver code\n",
    "n = 4\n",
    "result = countNumberOfWays(n)\n",
    "print(result)"
   ]
  }
 ],
 "metadata": {
  "kernelspec": {
   "display_name": "Python 3",
   "language": "python",
   "name": "python3"
  },
  "language_info": {
   "codemirror_mode": {
    "name": "ipython",
    "version": 3
   },
   "file_extension": ".py",
   "mimetype": "text/x-python",
   "name": "python",
   "nbconvert_exporter": "python",
   "pygments_lexer": "ipython3",
   "version": "3.12.0"
  }
 },
 "nbformat": 4,
 "nbformat_minor": 2
}
