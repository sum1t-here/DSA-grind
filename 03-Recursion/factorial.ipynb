{
 "cells": [
  {
   "cell_type": "code",
   "execution_count": 1,
   "metadata": {},
   "outputs": [
    {
     "name": "stdout",
     "output_type": "stream",
     "text": [
      "The factorial of the given no. is  120\n"
     ]
    }
   ],
   "source": [
    "## using recursive approach\n",
    "def find_factorial(n):\n",
    "    ## base condition\n",
    "    ## small problem\n",
    "    if n == 1 or n == 0:\n",
    "        return 1\n",
    "    else:\n",
    "        ## recursion\n",
    "        ## big problem\n",
    "        return n * find_factorial(n-1)\n",
    "\n",
    "## Driver code\n",
    "n = 5\n",
    "## function calling\n",
    "result = find_factorial(n)\n",
    "print(\"The factorial of the given no. is \", result)"
   ]
  },
  {
   "cell_type": "code",
   "execution_count": 4,
   "metadata": {},
   "outputs": [
    {
     "name": "stdout",
     "output_type": "stream",
     "text": [
      "The factorial of the given no. is  120\n"
     ]
    }
   ],
   "source": [
    "## iterative approach\n",
    "\n",
    "def find_factorial(n):\n",
    "    ## base condition\n",
    "    ## small problem\n",
    "    result = 1\n",
    "    if n == 1 or n == 0:\n",
    "        return 1\n",
    "    else:\n",
    "        for i in range(2,n+1):\n",
    "            result = result * i\n",
    "        return result\n",
    "\n",
    "## Driver code\n",
    "n = 5\n",
    "## function calling\n",
    "result = find_factorial(n)\n",
    "print(\"The factorial of the given no. is \", result)"
   ]
  }
 ],
 "metadata": {
  "kernelspec": {
   "display_name": "Python 3",
   "language": "python",
   "name": "python3"
  },
  "language_info": {
   "codemirror_mode": {
    "name": "ipython",
    "version": 3
   },
   "file_extension": ".py",
   "mimetype": "text/x-python",
   "name": "python",
   "nbconvert_exporter": "python",
   "pygments_lexer": "ipython3",
   "version": "3.12.0"
  }
 },
 "nbformat": 4,
 "nbformat_minor": 2
}
