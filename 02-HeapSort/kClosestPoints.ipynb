{
 "cells": [
  {
   "cell_type": "markdown",
   "metadata": {},
   "source": [
    "K closest points\n",
    "\n",
    "Points = [[3,3], [5,-1], [-2,4]]"
   ]
  },
  {
   "cell_type": "code",
   "execution_count": 2,
   "metadata": {},
   "outputs": [
    {
     "name": "stdout",
     "output_type": "stream",
     "text": [
      "k closest points are [[3, 3], [-2, 4]]\n"
     ]
    }
   ],
   "source": [
    "from heapq import heappush, heappop\n",
    "import math\n",
    "\n",
    "## function definition\n",
    "def get_dist(x,y):\n",
    "    return math.sqrt(x**2+ y**2)\n",
    "\n",
    "def kClosest(points,k):\n",
    "    min_heap = []\n",
    "    n = len(points)\n",
    "    for i in range(n):\n",
    "        x = points[i][0]\n",
    "        y = points[i][1]\n",
    "        # to insert elements in minheap\n",
    "        heappush(min_heap, (get_dist(x,y), points[i]))\n",
    "    result = []\n",
    "\n",
    "    for i in range(k):\n",
    "        # to delete the elements from minheap\n",
    "        result.append(heappop(min_heap)[1])\n",
    "    return result\n",
    "\n",
    "\n",
    "## driver code\n",
    "points = [[3,3], [5,-1], [-2,4]]\n",
    "k = 2\n",
    "result = kClosest(points, k)\n",
    "print(f\"k closest points are {result}\")"
   ]
  }
 ],
 "metadata": {
  "kernelspec": {
   "display_name": "Python 3",
   "language": "python",
   "name": "python3"
  },
  "language_info": {
   "codemirror_mode": {
    "name": "ipython",
    "version": 3
   },
   "file_extension": ".py",
   "mimetype": "text/x-python",
   "name": "python",
   "nbconvert_exporter": "python",
   "pygments_lexer": "ipython3",
   "version": "3.12.0"
  }
 },
 "nbformat": 4,
 "nbformat_minor": 2
}
