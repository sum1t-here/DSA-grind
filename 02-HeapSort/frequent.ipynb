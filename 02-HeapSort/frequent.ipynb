{
 "cells": [
  {
   "cell_type": "markdown",
   "metadata": {},
   "source": [
    "Top k frequent elements\n",
    "\n",
    "[1,1,1,2,2,3] -> arr  n = 6\n",
    "\n",
    "k = 2 -> top 2 frequent elements ??"
   ]
  },
  {
   "cell_type": "code",
   "execution_count": 2,
   "metadata": {},
   "outputs": [
    {
     "name": "stdout",
     "output_type": "stream",
     "text": [
      "Top 2 frequent elements are [1, 2]\n"
     ]
    }
   ],
   "source": [
    "from collections import Counter\n",
    "import heapq\n",
    "\n",
    "## function definition\n",
    "\n",
    "def topKfrequentElements(arr, k):\n",
    "    if k == len(arr):\n",
    "        return set(arr)\n",
    "    count = Counter(arr)\n",
    "    \n",
    "    return heapq.nlargest(k,count.keys(),key=count.get)\n",
    "\n",
    "\n",
    "## Driver code\n",
    "\n",
    "arr = [1,1,1,2,2,3]\n",
    "\n",
    "k = 2 \n",
    "\n",
    "## function calling\n",
    "\n",
    "result = topKfrequentElements(arr, k)\n",
    "print(f\"Top {k} frequent elements are {result}\")"
   ]
  }
 ],
 "metadata": {
  "kernelspec": {
   "display_name": "Python 3",
   "language": "python",
   "name": "python3"
  },
  "language_info": {
   "codemirror_mode": {
    "name": "ipython",
    "version": 3
   },
   "file_extension": ".py",
   "mimetype": "text/x-python",
   "name": "python",
   "nbconvert_exporter": "python",
   "pygments_lexer": "ipython3",
   "version": "3.12.0"
  }
 },
 "nbformat": 4,
 "nbformat_minor": 2
}
