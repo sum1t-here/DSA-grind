{
 "cells": [
  {
   "cell_type": "markdown",
   "metadata": {},
   "source": [
    "Given 3 points show that they are collinear or"
   ]
  },
  {
   "cell_type": "code",
   "execution_count": 2,
   "metadata": {},
   "outputs": [
    {
     "name": "stdout",
     "output_type": "stream",
     "text": [
      "given points are collinear\n"
     ]
    }
   ],
   "source": [
    "## Time complexity O(1)\n",
    "## space complexity O(1)\n",
    "\n",
    "## Approach 1: Using the concept of slope\n",
    "\n",
    "def isCollinearPoints(x1,x2,x3,y1,y2,y3):\n",
    "    if((y2 - y1)*(x3-x2) == (y3 - y2)*(x2-x1)):\n",
    "        print('given points are collinear')\n",
    "    else:\n",
    "        print('given points are not collinear')\n",
    "\n",
    "## driver code\n",
    "x1, x2, x3, y1, y2, y3 = 1, 1, 1, 6, 0, 9\n",
    "isCollinearPoints(x1,x2,x3,y1,y2,y3)"
   ]
  },
  {
   "cell_type": "code",
   "execution_count": 3,
   "metadata": {},
   "outputs": [
    {
     "name": "stdout",
     "output_type": "stream",
     "text": [
      "given points are collinear\n"
     ]
    }
   ],
   "source": [
    "## Approach 2: Using the concept of area of triangle\n",
    "\n",
    "## Time complexity: O(1)\n",
    "## Space Complexity: O(1)\n",
    "\n",
    "def isCollinearPoints(x1,x2,x3,y1,y2,y3):\n",
    "    area = 0.5*(x1*(y2-y3)+x2*(y3-y1)+x3*(y1-y2))\n",
    "    if area == 0:\n",
    "        print('given points are collinear')\n",
    "    else:\n",
    "        print('given points are not collinear')\n",
    "\n",
    "## driver code\n",
    "x1, x2, x3, y1, y2, y3 = 1, 1, 1, 6, 0, 9\n",
    "isCollinearPoints(x1,x2,x3,y1,y2,y3)"
   ]
  },
  {
   "cell_type": "code",
   "execution_count": null,
   "metadata": {},
   "outputs": [],
   "source": []
  }
 ],
 "metadata": {
  "kernelspec": {
   "display_name": "Python 3",
   "language": "python",
   "name": "python3"
  },
  "language_info": {
   "codemirror_mode": {
    "name": "ipython",
    "version": 3
   },
   "file_extension": ".py",
   "mimetype": "text/x-python",
   "name": "python",
   "nbconvert_exporter": "python",
   "pygments_lexer": "ipython3",
   "version": "3.12.0"
  }
 },
 "nbformat": 4,
 "nbformat_minor": 2
}
