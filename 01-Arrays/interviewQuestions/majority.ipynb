{
 "cells": [
  {
   "cell_type": "code",
   "execution_count": 3,
   "metadata": {},
   "outputs": [
    {
     "name": "stdout",
     "output_type": "stream",
     "text": [
      "Counter({2: 4, 1: 3})\n",
      "Majority Element in the array is 2\n"
     ]
    }
   ],
   "source": [
    "# Approach 2 (Hashing or dictionary based ds)\n",
    "# Time complexity = O(n)\n",
    "# Space complexity = O(n)\n",
    "\n",
    "from collections import Counter\n",
    "def MajorityElements(nums):\n",
    "    counts = Counter(nums)\n",
    "    print(counts)\n",
    "    return max(counts.keys(), key = counts.get)\n",
    "\n",
    "# driver code\n",
    "nums = [2,2,1,1,1,2,2]\n",
    "result = MajorityElements(nums)\n",
    "print('Majority Element in the array is', result)"
   ]
  },
  {
   "cell_type": "code",
   "execution_count": 5,
   "metadata": {},
   "outputs": [
    {
     "name": "stdout",
     "output_type": "stream",
     "text": [
      "Majority element is candidate 2\n"
     ]
    }
   ],
   "source": [
    "# Approach 3 : Boyer-Moore voting algo\n",
    "\n",
    "# time complexity: O(n)\n",
    "# space complexity: O(1)\n",
    "\n",
    "def findCandidate(nums):\n",
    "    count = 0\n",
    "    candidate = None\n",
    "    for num in nums:\n",
    "        if count == 0:\n",
    "            candidate = num\n",
    "        count += (1 if num == candidate else -1)\n",
    "    return candidate\n",
    "\n",
    "def isMajority(nums, candidate):\n",
    "    cnt = 0\n",
    "    n = len(nums)\n",
    "    for i in range(n):\n",
    "        if nums[i] == candidate:\n",
    "            cnt += 1\n",
    "    if cnt > n/2:\n",
    "        return 1\n",
    "    else:\n",
    "        return 0\n",
    "\n",
    "def printMajorityElements(nums):\n",
    "    cand = findCandidate(nums)\n",
    "    if isMajority(nums, cand):\n",
    "        print(\"Majority element is candidate\",cand)\n",
    "    else:\n",
    "        print(\"No majority element\")\n",
    "\n",
    "\n",
    "# driver code\n",
    "nums = [2,2,1,1,1,2,2]\n",
    "result = printMajorityElements(nums)"
   ]
  },
  {
   "cell_type": "code",
   "execution_count": null,
   "metadata": {},
   "outputs": [],
   "source": []
  }
 ],
 "metadata": {
  "kernelspec": {
   "display_name": "Python 3",
   "language": "python",
   "name": "python3"
  },
  "language_info": {
   "codemirror_mode": {
    "name": "ipython",
    "version": 3
   },
   "file_extension": ".py",
   "mimetype": "text/x-python",
   "name": "python",
   "nbconvert_exporter": "python",
   "pygments_lexer": "ipython3",
   "version": "3.12.0"
  }
 },
 "nbformat": 4,
 "nbformat_minor": 2
}
