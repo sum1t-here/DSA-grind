{
 "cells": [
  {
   "cell_type": "markdown",
   "metadata": {},
   "source": [
    "## Binary Search\n",
    "    - Based on divide and conquer\n",
    "    - Array must be sorted\n",
    "    - Time complexity O(logn)\n"
   ]
  },
  {
   "cell_type": "code",
   "execution_count": 1,
   "metadata": {},
   "outputs": [
    {
     "name": "stdout",
     "output_type": "stream",
     "text": [
      "Element is present at index 8\n"
     ]
    }
   ],
   "source": [
    "## Implementation of Binary Search using recursion\n",
    "def binary_search(arr,i,j,x):\n",
    "    while i <= j:\n",
    "        mid = i+(j-i) // 2\n",
    "        if arr[mid] == x:\n",
    "            return mid\n",
    "        elif arr[mid] < x:\n",
    "            return binary_search(arr,mid+1,j,x)\n",
    "        else: \n",
    "            return binary_search(arr,i,mid-1,x)\n",
    "    return -1;\n",
    "## Driver code\n",
    "## Sorted Array\n",
    "\n",
    "arr = [2,5,10,14,18,22,27,35,40,59]\n",
    "x = 40\n",
    "i = 0\n",
    "j = len(arr) - 1\n",
    "\n",
    "## Function call\n",
    "result = binary_search(arr,i,j,x)\n",
    "print(f'Element is present at index {result}')"
   ]
  },
  {
   "cell_type": "code",
   "execution_count": 2,
   "metadata": {},
   "outputs": [
    {
     "name": "stdout",
     "output_type": "stream",
     "text": [
      "Element is present at index -1\n"
     ]
    }
   ],
   "source": [
    "## Implementation of Binary Search without using recursion\n",
    "def binary_search(arr,i,j,x):\n",
    "    while i <= j:\n",
    "        mid = i+(j-i) // 2\n",
    "        if arr[mid] == x:\n",
    "            return mid\n",
    "        elif arr[mid] < x:\n",
    "            i = mid+1\n",
    "        else: \n",
    "            j = mid-1\n",
    "    return -1;\n",
    "## Driver code\n",
    "## Sorted Array\n",
    "\n",
    "arr = [2,5,10,14,18,22,27,35,40,59]\n",
    "x = 20\n",
    "i = 0\n",
    "j = len(arr) - 1\n",
    "\n",
    "## Function call\n",
    "result = binary_search(arr,i,j,x)\n",
    "print(f'Element is present at index {result}')"
   ]
  },
  {
   "cell_type": "markdown",
   "metadata": {},
   "source": [
    "## Interview Question\n",
    "\n",
    "array -> [20, -30, 10, 5, 7, 0, 29, infinite, infinite, infinite.....]\n",
    "\n",
    "### Problem : Position of first infinite element\n",
    "### Output : 7"
   ]
  },
  {
   "cell_type": "code",
   "execution_count": 17,
   "metadata": {},
   "outputs": [
    {
     "name": "stdout",
     "output_type": "stream",
     "text": [
      "Present at index 7\n"
     ]
    }
   ],
   "source": [
    "def binary_search_modified(arr, i, j, x):\n",
    "    while i < j:\n",
    "        mid = i + (j-i) // 2\n",
    "        if arr[mid] != 'inf':\n",
    "            return binary_search_modified(arr, mid+1, j, x)\n",
    "        if arr[mid] == 'inf':\n",
    "            prev = mid - 1\n",
    "            if arr[prev] != 'inf':\n",
    "                return mid\n",
    "            else:\n",
    "               return binary_search_modified(arr, i, mid-1, x)\n",
    "    return -1\n",
    "\n",
    "\n",
    "arr = [20, -30, 10, 5, 7, 0, 29, 'inf', 'inf', 'inf']\n",
    "\n",
    "x = 'inf'\n",
    "i = 0\n",
    "j = len(arr) - 1\n",
    "\n",
    "position = binary_search_modified(arr, i, j, x)\n",
    "print(f'Present at index {position}')"
   ]
  }
 ],
 "metadata": {
  "kernelspec": {
   "display_name": "Python 3",
   "language": "python",
   "name": "python3"
  },
  "language_info": {
   "codemirror_mode": {
    "name": "ipython",
    "version": 3
   },
   "file_extension": ".py",
   "mimetype": "text/x-python",
   "name": "python",
   "nbconvert_exporter": "python",
   "pygments_lexer": "ipython3",
   "version": "3.12.0"
  }
 },
 "nbformat": 4,
 "nbformat_minor": 2
}
