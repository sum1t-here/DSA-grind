{
 "cells": [
  {
   "cell_type": "code",
   "execution_count": 1,
   "metadata": {},
   "outputs": [
    {
     "name": "stdout",
     "output_type": "stream",
     "text": [
      "Element is present at 1\n"
     ]
    }
   ],
   "source": [
    "## function definition\n",
    "def ternary_search(l,r,x,arr):\n",
    "    while l <= r:\n",
    "        mid1 = l + (r-l) // 3\n",
    "        mid2 = r - (r-l) // 3\n",
    "\n",
    "        if x == arr[mid1]:\n",
    "            return mid1\n",
    "        elif x == arr[mid2]:\n",
    "            return mid2\n",
    "        elif x < arr[mid1]:\n",
    "            return ternary_search(l,mid1-1,x,arr)\n",
    "        elif x > arr[mid2]:\n",
    "            return ternary_search(mid2+1,r,x,arr)\n",
    "        else:\n",
    "           return ternary_search(mid1+1,mid2-1,x,arr)\n",
    "        \n",
    "    return -1\n",
    "\n",
    "## driver code\n",
    "arr = [1, 2, 3, 4, 5, 6, 7, 8, 9, 10]\n",
    "l = 0\n",
    "r = len(arr) - 1\n",
    "x = 2\n",
    "result = ternary_search(l,r,x,arr)\n",
    "print(f'Element is present at {result}')"
   ]
  }
 ],
 "metadata": {
  "kernelspec": {
   "display_name": "Python 3",
   "language": "python",
   "name": "python3"
  },
  "language_info": {
   "codemirror_mode": {
    "name": "ipython",
    "version": 3
   },
   "file_extension": ".py",
   "mimetype": "text/x-python",
   "name": "python",
   "nbconvert_exporter": "python",
   "pygments_lexer": "ipython3",
   "version": "3.12.0"
  }
 },
 "nbformat": 4,
 "nbformat_minor": 2
}
