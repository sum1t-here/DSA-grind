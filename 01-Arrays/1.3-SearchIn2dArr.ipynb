{
 "cells": [
  {
   "cell_type": "code",
   "execution_count": 2,
   "metadata": {},
   "outputs": [
    {
     "name": "stdout",
     "output_type": "stream",
     "text": [
      "True\n"
     ]
    }
   ],
   "source": [
    "## function definition\n",
    "def binarySearch_SortedMatrix(matrix, target):\n",
    "    ## number of rows\n",
    "    m = len(matrix)\n",
    "    if m == 0:\n",
    "        return False\n",
    "    ## number of columns\n",
    "    n = len(matrix[0])\n",
    "\n",
    "    left, right = 0, m*n-1\n",
    "\n",
    "    while left <= right:\n",
    "        mid = left + (right - left) // 2\n",
    "        ## extracting the elements from 2D matrix\n",
    "        ## row_number = idx // n\n",
    "        ## col_number = idx % n\n",
    "        mid_element = matrix[mid//n][mid%n]\n",
    "        if target == mid_element:\n",
    "            return True\n",
    "        elif target < mid_element:\n",
    "            right = mid - 1\n",
    "        else:\n",
    "            left = mid + 1\n",
    "    return False\n",
    "\n",
    "## Driver code\n",
    "matrix = [[1,3,5,7],[10,11,16,20],[23,30,34,60]]\n",
    "target = 3\n",
    "## function calling\n",
    "result = binarySearch_SortedMatrix(matrix, target)\n",
    "print(result)"
   ]
  }
 ],
 "metadata": {
  "kernelspec": {
   "display_name": "Python 3",
   "language": "python",
   "name": "python3"
  },
  "language_info": {
   "codemirror_mode": {
    "name": "ipython",
    "version": 3
   },
   "file_extension": ".py",
   "mimetype": "text/x-python",
   "name": "python",
   "nbconvert_exporter": "python",
   "pygments_lexer": "ipython3",
   "version": "3.12.0"
  }
 },
 "nbformat": 4,
 "nbformat_minor": 2
}
